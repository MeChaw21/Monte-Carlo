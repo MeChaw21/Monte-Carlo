{
 "cells": [
  {
   "cell_type": "code",
   "execution_count": 46,
   "id": "e3ee81bf",
   "metadata": {},
   "outputs": [],
   "source": [
    "import numpy as np\n",
    "import random as rd\n",
    "import math"
   ]
  },
  {
   "cell_type": "code",
   "execution_count": 47,
   "id": "00dd69be",
   "metadata": {},
   "outputs": [],
   "source": [
    "# function that returns value of the arithmetic expression 4 * (1 - x^2)^(1/2) for a given x value\n",
    "\n",
    "def func(x):   \n",
    "    return 4 * math.pow((1.0 - (x * x)), 0.5)"
   ]
  },
  {
   "cell_type": "code",
   "execution_count": 50,
   "id": "e4400444",
   "metadata": {},
   "outputs": [
    {
     "name": "stdout",
     "output_type": "stream",
     "text": [
      " Standard deviation for the Integral's value is  0.028047957437674933\n",
      "\n",
      "\n",
      " Standard deviation for the Function's value is  0.8932302607813598\n",
      "\n",
      "\n",
      " The actual error in numerical value when compared to analytical value is  0.0007839199044248346\n"
     ]
    }
   ],
   "source": [
    "# Sample Mean Method\n",
    "# We have to evaluate the integral {4 * (1 - x^2)^(1/2)} from 0 to 1 w.r.t x\n",
    "\n",
    "m = 1000 # No. of integral evaluations in total\n",
    "n = 1000 # No. of points used to determine each intergal\n",
    "f = 0.0\n",
    "ans = []\n",
    "integral_arr = [] # to store all the one thousand integral evaluations\n",
    "f_arr = [] # to store all the 10^6 function evaluations\n",
    "\n",
    "for i in range(0 , m):\n",
    "    \n",
    "    for j in range(0 , n):\n",
    "        \n",
    "        x = rd.random()\n",
    "        f = func(x) # function evaluation at any random floating point value between 0 & 1\n",
    "        ans.append(f) # all of those 1000 random evaluations are stored in ans[]\n",
    "        f_arr.append(f) # all 10^6 values of function evaluations at random points will be stored in f_arr[]\n",
    "        \n",
    "    integral_arr.append( ((1.0 - 0.0) / n) * sum(ans) ) # average value of 1000 function evaluations is taken as per sample mean method to get integral value\n",
    "    ans = []\n",
    "\n",
    "M = sum(integral_arr) / m     # Mean value of the 1000 Integral evaluations\n",
    "\n",
    "nump_integral_arr = np.array(integral_arr)\n",
    "nump_integral_arr = (np.square(nump_integral_arr - M))\n",
    "std_dev_in = math.sqrt( np.sum(nump_integral_arr) / m)   # standard deviation in the integral's value\n",
    "\n",
    "print(\" Standard deviation for the Integral's value is \", std_dev_in)\n",
    "\n",
    "nump_f_arr = np.array(f_arr)\n",
    "nump_f_arr = (np.square(nump_f_arr - M))\n",
    "std_dev_fn = math.sqrt( np.sum(nump_f_arr) / (m * n))  # standard deviation in the value of the function evaluations itself\n",
    "\n",
    "print(\"\\n\\n Standard deviation for the Function's value is \", std_dev_fn)       \n",
    "\n",
    "# The actual value of the integral evaluated analytically comes out to be pi\n",
    "\n",
    "print(\"\\n\\n The actual error in numerical value when compared to analytical value is \", abs(M - math.pi))\n"
   ]
  },
  {
   "cell_type": "code",
   "execution_count": null,
   "id": "77d893f0",
   "metadata": {},
   "outputs": [],
   "source": []
  }
 ],
 "metadata": {
  "kernelspec": {
   "display_name": "Python 3",
   "language": "python",
   "name": "python3"
  },
  "language_info": {
   "codemirror_mode": {
    "name": "ipython",
    "version": 3
   },
   "file_extension": ".py",
   "mimetype": "text/x-python",
   "name": "python",
   "nbconvert_exporter": "python",
   "pygments_lexer": "ipython3",
   "version": "3.8.8"
  }
 },
 "nbformat": 4,
 "nbformat_minor": 5
}
